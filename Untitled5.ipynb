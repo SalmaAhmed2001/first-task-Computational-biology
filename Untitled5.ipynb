{
  "nbformat": 4,
  "nbformat_minor": 0,
  "metadata": {
    "colab": {
      "provenance": [],
      "toc_visible": true,
      "authorship_tag": "ABX9TyNmuNkKM+M9kDzGJCjxom+Q",
      "include_colab_link": true
    },
    "kernelspec": {
      "name": "python3",
      "display_name": "Python 3"
    },
    "language_info": {
      "name": "python"
    }
  },
  "cells": [
    {
      "cell_type": "markdown",
      "metadata": {
        "id": "view-in-github",
        "colab_type": "text"
      },
      "source": [
        "<a href=\"https://colab.research.google.com/github/SalmaAhmed2001/first-task-Computational-biology/blob/main/Untitled5.ipynb\" target=\"_parent\"><img src=\"https://colab.research.google.com/assets/colab-badge.svg\" alt=\"Open In Colab\"/></a>"
      ]
    },
    {
      "cell_type": "code",
      "execution_count": null,
      "metadata": {
        "colab": {
          "base_uri": "https://localhost:8080/"
        },
        "id": "T9XGGuQPa__-",
        "outputId": "d02e9e7c-120d-485a-ea43-6458124d7197"
      },
      "outputs": [
        {
          "output_type": "stream",
          "name": "stdout",
          "text": [
            "Looking in indexes: https://pypi.org/simple, https://us-python.pkg.dev/colab-wheels/public/simple/\n",
            "Collecting pyopenms\n",
            "  Downloading pyopenms-2.7.0-cp37-cp37m-manylinux2014_x86_64.whl (49.0 MB)\n",
            "\u001b[K     |████████████████████████████████| 49.0 MB 233 kB/s \n",
            "\u001b[?25hRequirement already satisfied: numpy in /usr/local/lib/python3.7/dist-packages (from pyopenms) (1.21.6)\n",
            "Installing collected packages: pyopenms\n",
            "Successfully installed pyopenms-2.7.0\n"
          ]
        }
      ],
      "source": [
        "!pip install pyopenms"
      ]
    },
    {
      "cell_type": "code",
      "source": [
        "import pyopenms\n"
      ],
      "metadata": {
        "id": "q1NKBTRabPsa"
      },
      "execution_count": null,
      "outputs": []
    },
    {
      "cell_type": "code",
      "source": [
        "print(\"Avogadro's number is \",pyopenms.Constants.AVOGADRO)"
      ],
      "metadata": {
        "colab": {
          "base_uri": "https://localhost:8080/"
        },
        "id": "pApjPt8Tb9jP",
        "outputId": "9c27b322-8f3a-4e26-e197-2da0e625a7e9"
      },
      "execution_count": null,
      "outputs": [
        {
          "output_type": "stream",
          "name": "stdout",
          "text": [
            "Avogadro's number is  6.0221367e+23\n"
          ]
        }
      ]
    },
    {
      "cell_type": "code",
      "source": [
        "!pip install pyopenms\n"
      ],
      "metadata": {
        "id": "ZwLlTpONedBM",
        "colab": {
          "base_uri": "https://localhost:8080/"
        },
        "outputId": "cff663e4-4737-4d7d-e9c4-adc8252a2a45"
      },
      "execution_count": 1,
      "outputs": [
        {
          "output_type": "stream",
          "name": "stdout",
          "text": [
            "Looking in indexes: https://pypi.org/simple, https://us-python.pkg.dev/colab-wheels/public/simple/\n",
            "Collecting pyopenms\n",
            "  Downloading pyopenms-2.7.0-cp37-cp37m-manylinux2014_x86_64.whl (49.0 MB)\n",
            "\u001b[K     |████████████████████████████████| 49.0 MB 2.0 MB/s \n",
            "\u001b[?25hRequirement already satisfied: numpy in /usr/local/lib/python3.7/dist-packages (from pyopenms) (1.21.6)\n",
            "Installing collected packages: pyopenms\n",
            "Successfully installed pyopenms-2.7.0\n"
          ]
        }
      ]
    },
    {
      "cell_type": "code",
      "source": [
        "import pyopenms"
      ],
      "metadata": {
        "id": "wFQf272XHJzq"
      },
      "execution_count": 2,
      "outputs": []
    },
    {
      "cell_type": "code",
      "source": [
        "print (\"Avogadro's number is \", pyopenms.Constants.AVOGADRO)"
      ],
      "metadata": {
        "colab": {
          "base_uri": "https://localhost:8080/"
        },
        "id": "_V-zA57WHRyZ",
        "outputId": "468d6598-056d-44ee-da3e-ec0302d1d824"
      },
      "execution_count": 3,
      "outputs": [
        {
          "output_type": "stream",
          "name": "stdout",
          "text": [
            "Avogadro's number is  6.0221367e+23\n"
          ]
        }
      ]
    },
    {
      "cell_type": "code",
      "source": [
        "from pyopenms import *\n",
        "edb = ElementDB()\n",
        "edb.hasElement(\"o\")"
      ],
      "metadata": {
        "colab": {
          "base_uri": "https://localhost:8080/"
        },
        "id": "qSO1TYE_HcUk",
        "outputId": "7b6b9b51-f7d0-4135-9ceb-d57466cf95b0"
      },
      "execution_count": 4,
      "outputs": [
        {
          "output_type": "execute_result",
          "data": {
            "text/plain": [
              "False"
            ]
          },
          "metadata": {},
          "execution_count": 4
        }
      ]
    },
    {
      "cell_type": "code",
      "source": [
        "from pyopenms import *\n",
        "edb = ElementDB()\n",
        "edb.hasElement(\"O\")"
      ],
      "metadata": {
        "colab": {
          "base_uri": "https://localhost:8080/"
        },
        "id": "ZuKeOd45K2oc",
        "outputId": "3d877afd-87ad-4468-e99f-a1796bc7dae4"
      },
      "execution_count": 5,
      "outputs": [
        {
          "output_type": "execute_result",
          "data": {
            "text/plain": [
              "True"
            ]
          },
          "metadata": {},
          "execution_count": 5
        }
      ]
    },
    {
      "cell_type": "code",
      "source": [
        "oxygen=edb.getElement(\"O\")"
      ],
      "metadata": {
        "id": "LzKyGeuJK7oy"
      },
      "execution_count": 6,
      "outputs": []
    },
    {
      "cell_type": "code",
      "source": [
        "print(oxyegen.getName())"
      ],
      "metadata": {
        "colab": {
          "base_uri": "https://localhost:8080/",
          "height": 165
        },
        "id": "4fMfCzrGLJCr",
        "outputId": "8b86d456-1a8d-4069-94c3-bb6395b907f4"
      },
      "execution_count": 7,
      "outputs": [
        {
          "output_type": "error",
          "ename": "NameError",
          "evalue": "ignored",
          "traceback": [
            "\u001b[0;31m---------------------------------------------------------------------------\u001b[0m",
            "\u001b[0;31mNameError\u001b[0m                                 Traceback (most recent call last)",
            "\u001b[0;32m<ipython-input-7-49a31a017c5f>\u001b[0m in \u001b[0;36m<module>\u001b[0;34m\u001b[0m\n\u001b[0;32m----> 1\u001b[0;31m \u001b[0mprint\u001b[0m\u001b[0;34m(\u001b[0m\u001b[0moxyegen\u001b[0m\u001b[0;34m.\u001b[0m\u001b[0mgetName\u001b[0m\u001b[0;34m(\u001b[0m\u001b[0;34m)\u001b[0m\u001b[0;34m)\u001b[0m\u001b[0;34m\u001b[0m\u001b[0;34m\u001b[0m\u001b[0m\n\u001b[0m",
            "\u001b[0;31mNameError\u001b[0m: name 'oxyegen' is not defined"
          ]
        }
      ]
    },
    {
      "cell_type": "code",
      "source": [
        "print(oxygen.getName())\n"
      ],
      "metadata": {
        "colab": {
          "base_uri": "https://localhost:8080/"
        },
        "id": "cEqZdXn8Ldfj",
        "outputId": "ba7c84c8-d34a-4a55-f2d2-ee510fe6106f"
      },
      "execution_count": 8,
      "outputs": [
        {
          "output_type": "stream",
          "name": "stdout",
          "text": [
            "Oxygen\n"
          ]
        }
      ]
    },
    {
      "cell_type": "code",
      "source": [
        "print(oxygen.getSymbol())"
      ],
      "metadata": {
        "colab": {
          "base_uri": "https://localhost:8080/"
        },
        "id": "Z2EFYVhWL0mO",
        "outputId": "51d73cab-eee2-4a85-fbb2-42822ee952fd"
      },
      "execution_count": 10,
      "outputs": [
        {
          "output_type": "stream",
          "name": "stdout",
          "text": [
            "O\n"
          ]
        }
      ]
    },
    {
      "cell_type": "code",
      "source": [
        "print(oxygen.getMonoWeight())"
      ],
      "metadata": {
        "colab": {
          "base_uri": "https://localhost:8080/"
        },
        "id": "oEhBfdeEL6p5",
        "outputId": "323f4000-ca33-4aa7-932b-39cf55207524"
      },
      "execution_count": 11,
      "outputs": [
        {
          "output_type": "stream",
          "name": "stdout",
          "text": [
            "15.994915\n"
          ]
        }
      ]
    },
    {
      "cell_type": "code",
      "source": [
        "print(oxygen.getAverageWeight())"
      ],
      "metadata": {
        "colab": {
          "base_uri": "https://localhost:8080/"
        },
        "id": "4MC8An8jMQCJ",
        "outputId": "5469695f-5cfc-4f45-8b1c-c9c91576b37e"
      },
      "execution_count": 12,
      "outputs": [
        {
          "output_type": "stream",
          "name": "stdout",
          "text": [
            "15.999405323160001\n"
          ]
        }
      ]
    },
    {
      "cell_type": "code",
      "source": [
        "print(\"one mole of oxygen weights \",2*oxygen.getMonoWeight(),\"grams\")"
      ],
      "metadata": {
        "colab": {
          "base_uri": "https://localhost:8080/"
        },
        "id": "SMO-0WhpMWMD",
        "outputId": "77009c0d-ef45-4cbe-bfa9-1bf1b75411a1"
      },
      "execution_count": 13,
      "outputs": [
        {
          "output_type": "stream",
          "name": "stdout",
          "text": [
            "one mole of oxygen weights  31.98983 grams\n"
          ]
        }
      ]
    },
    {
      "cell_type": "code",
      "source": [
        "sulfur =edb.getElement(\"S\")\n",
        "print(sulfur.getName())\n"
      ],
      "metadata": {
        "colab": {
          "base_uri": "https://localhost:8080/"
        },
        "id": "CsRYCo16MrN-",
        "outputId": "8bce081f-925c-4959-c962-9849853ba861"
      },
      "execution_count": 14,
      "outputs": [
        {
          "output_type": "stream",
          "name": "stdout",
          "text": [
            "Sulfur\n"
          ]
        }
      ]
    },
    {
      "cell_type": "code",
      "source": [
        "print(sulfur.getSymbol())\n"
      ],
      "metadata": {
        "colab": {
          "base_uri": "https://localhost:8080/"
        },
        "id": "KmnpUDAJNPLw",
        "outputId": "609ec0be-dbab-4190-a6fc-7b67e0205fd2"
      },
      "execution_count": 15,
      "outputs": [
        {
          "output_type": "stream",
          "name": "stdout",
          "text": [
            "S\n"
          ]
        }
      ]
    },
    {
      "cell_type": "code",
      "source": [
        "print(sulfur.getMonoWeight())"
      ],
      "metadata": {
        "colab": {
          "base_uri": "https://localhost:8080/"
        },
        "id": "wDtUxJzoNSTQ",
        "outputId": "f9eb86c1-f7e8-4e56-b4a7-8d22ee3cde46"
      },
      "execution_count": 16,
      "outputs": [
        {
          "output_type": "stream",
          "name": "stdout",
          "text": [
            "31.97207073\n"
          ]
        }
      ]
    },
    {
      "cell_type": "code",
      "source": [
        "print(sulfur.getAverageWeight())"
      ],
      "metadata": {
        "colab": {
          "base_uri": "https://localhost:8080/"
        },
        "id": "rLNGNiBlNUnW",
        "outputId": "9e7cbf46-50d5-4319-d306-5216bd09f470"
      },
      "execution_count": 17,
      "outputs": [
        {
          "output_type": "stream",
          "name": "stdout",
          "text": [
            "32.066084735289\n"
          ]
        }
      ]
    },
    {
      "cell_type": "code",
      "source": [
        "isotopes = sulfur.getIsotopeDistribution()"
      ],
      "metadata": {
        "id": "JWVhL5r7NWy1"
      },
      "execution_count": 18,
      "outputs": []
    },
    {
      "cell_type": "code",
      "source": [
        "print (\" One mole of 16O2 weighs \", 2*oxygen.getMonoWeight(), \" grams \")"
      ],
      "metadata": {
        "colab": {
          "base_uri": "https://localhost:8080/"
        },
        "id": "qg0LFc4BgAsb",
        "outputId": "cb642ed9-7c3c-478a-f3cb-7a969d488b2f"
      },
      "execution_count": 19,
      "outputs": [
        {
          "output_type": "stream",
          "name": "stdout",
          "text": [
            " One mole of 16O2 weighs  31.98983  grams \n"
          ]
        }
      ]
    },
    {
      "cell_type": "code",
      "source": [
        "edb = ElementDB()\n",
        "oxygen_isoDist = {\"mass\": [], \"abundance\": []}\n",
        "oxygen = edb.getElement(\"O\")\n",
        "isotopes = oxygen.getIsotopeDistribution()\n",
        "for iso in isotopes.getContainer():\n",
        "    print (\"Oxygen isotope\", iso.getMZ(), \"has abundance\", iso.getIntensity()*100, \"%\")\n",
        "    oxygen_isoDist[\"mass\"].append(iso.getMZ())\n",
        "    oxygen_isoDist[\"abundance\"].append((iso.getIntensity() * 100))\n"
      ],
      "metadata": {
        "colab": {
          "base_uri": "https://localhost:8080/"
        },
        "id": "Szelsth0gKAX",
        "outputId": "2be6200f-d133-4c5d-e2fa-c675c72b0b93"
      },
      "execution_count": 20,
      "outputs": [
        {
          "output_type": "stream",
          "name": "stdout",
          "text": [
            "Oxygen isotope 15.994915 has abundance 99.75699782371521 %\n",
            "Oxygen isotope 16.999132 has abundance 0.03800000122282654 %\n",
            "Oxygen isotope 17.999169 has abundance 0.20500000100582838 %\n"
          ]
        }
      ]
    },
    {
      "cell_type": "code",
      "source": [
        "sulfur_isoDist = {\"mass\": [], \"abundance\": []}\n",
        "sulfur = edb.getElement(\"S\")\n",
        "isotopes = sulfur.getIsotopeDistribution()\n",
        "for iso in isotopes.getContainer():\n",
        "    print (\"Sulfur isotope\", iso.getMZ(), \"has abundance\", iso.getIntensity()*100, \"%\")\n",
        "    sulfur_isoDist[\"mass\"].append(iso.getMZ())\n",
        "    sulfur_isoDist[\"abundance\"].append((iso.getIntensity() * 100))"
      ],
      "metadata": {
        "colab": {
          "base_uri": "https://localhost:8080/"
        },
        "id": "NTnjBvrLjCgT",
        "outputId": "0eca7f75-31f3-42b5-c65d-4e7c5bd77a11"
      },
      "execution_count": 21,
      "outputs": [
        {
          "output_type": "stream",
          "name": "stdout",
          "text": [
            "Sulfur isotope 31.97207073 has abundance 94.92999911308289 %\n",
            "Sulfur isotope 32.971458 has abundance 0.7600000128149986 %\n",
            "Sulfur isotope 33.967867 has abundance 4.2899999767541885 %\n",
            "Sulfur isotope 35.967081 has abundance 0.019999999494757503 %\n"
          ]
        }
      ]
    },
    {
      "cell_type": "code",
      "source": [
        "import math\n",
        "from matplotlib import pyplot as plt\n",
        "def adjustText(x1, y1, x2, y2):\n",
        "    if y1 > y2:\n",
        "        plt.annotate('%0.3f' % (y2), xy=(x2, y2), xytext=(x2+0.5,y2+9),\n",
        "                     textcoords='data',\n",
        "                     arrowprops=dict(arrowstyle=\"->\", color='r', lw=0.5),\n",
        "                     horizontalalignment='right', verticalalignment='top')\n",
        "    else:\n",
        "        plt.annotate('%0.3f' % (y1), xy=(x1, y1), xytext=(x1+0.5,y1+9),\n",
        "                     textcoords='data',\n",
        "                     arrowprops=dict(arrowstyle=\"->\", color='r', lw=0.5),\n",
        "                     horizontalalignment='right', verticalalignment='top')\n",
        "        \n",
        "def plotDistribution(distribution):\n",
        "    n = len(distribution[\"mass\"])\n",
        "    for i in range(0, n):\n",
        "        plt.vlines(x=distribution[\"mass\"][i], ymin=0, ymax=distribution[\"abundance\"][i])\n",
        "        if int(distribution[\"mass\"][i - 1]) == int(distribution[\"mass\"][i]) \\\n",
        "                and i != 0:\n",
        "            adjustText(distribution[\"mass\"][i - 1], distribution[\"abundance\"][i - 1],\n",
        "                       distribution[\"mass\"][i], distribution[\"abundance\"][i])\n",
        "        else:\n",
        "            plt.text(x=distribution[\"mass\"][i],\n",
        "                     y=(distribution[\"abundance\"][i] + 2),\n",
        "                     s='%0.3f' % (distribution[\"abundance\"][i]), va='center',\n",
        "                     ha='center')\n",
        "    plt.ylim([0, 110])\n",
        "    plt.xticks(range(math.ceil(distribution[\"mass\"][0]) - 2,\n",
        "                     math.ceil(distribution[\"mass\"][-1]) + 2))\n",
        "\n",
        "plt.figure(figsize=(10,7))\n",
        "\n",
        "plt.subplot(1,2,1)\n",
        "plt.title(\"Isotopic distribution of oxygen\")\n",
        "plotDistribution(oxygen_isoDist)\n",
        "plt.xlabel(\"Atomic mass (u)\")\n",
        "plt.ylabel(\"Relative abundance (%)\")\n",
        "\n",
        "plt.subplot(1,2,2)\n",
        "plt.title(\"Isotopic distribution of sulfur\")\n",
        "plotDistribution(sulfur_isoDist)\n",
        "plt.xlabel(\"Atomic mass (u)\")\n",
        "plt.ylabel(\"Relative abundance (%)\")\n",
        "\n",
        "plt.show()"
      ],
      "metadata": {
        "colab": {
          "base_uri": "https://localhost:8080/",
          "height": 458
        },
        "id": "bEVKH9lyjMyx",
        "outputId": "fea4e973-c3ca-4c70-ef96-33fe32ac8665"
      },
      "execution_count": 22,
      "outputs": [
        {
          "output_type": "display_data",
          "data": {
            "text/plain": [
              "<Figure size 720x504 with 2 Axes>"
            ],
            "image/png": "[encoded data removed]"
          },
          "metadata": {
            "needs_background": "light"
          }
        }
      ]
    },
    {
      "cell_type": "code",
      "source": [
        "edb = ElementDB()\n",
        "isotopes = edb.getElement(\"C\").getIsotopeDistribution().getContainer()\n",
        "carbon_isotope_difference = isotopes[1].getMZ() - isotopes[0].getMZ()\n",
        "isotopes = edb.getElement(\"N\").getIsotopeDistribution().getContainer()\n",
        "nitrogen_isotope_difference = isotopes[1].getMZ() - isotopes[0].getMZ()"
      ],
      "metadata": {
        "id": "jMRT0AuOj_3P"
      },
      "execution_count": 23,
      "outputs": []
    },
    {
      "cell_type": "code",
      "source": [
        "print (\"Mass difference between 12C and 13C:\", carbon_isotope_difference)"
      ],
      "metadata": {
        "colab": {
          "base_uri": "https://localhost:8080/"
        },
        "id": "kZLDMGi_lrnX",
        "outputId": "a4cfff46-7917-40dd-a6aa-eaf68736b9ca"
      },
      "execution_count": 24,
      "outputs": [
        {
          "output_type": "stream",
          "name": "stdout",
          "text": [
            "Mass difference between 12C and 13C: 1.0033550000000009\n"
          ]
        }
      ]
    },
    {
      "cell_type": "code",
      "source": [
        "print (\"Mass difference between 14N and N15:\", nitrogen_isotope_difference)"
      ],
      "metadata": {
        "colab": {
          "base_uri": "https://localhost:8080/"
        },
        "id": "IKSSz2__lvJh",
        "outputId": "3001bfdc-94e7-414f-852e-73d576b7349e"
      },
      "execution_count": 25,
      "outputs": [
        {
          "output_type": "stream",
          "name": "stdout",
          "text": [
            "Mass difference between 14N and N15: 0.9970350000000003\n"
          ]
        }
      ]
    },
    {
      "cell_type": "code",
      "source": [
        "print (\"Relative deviation:\", 100*(carbon_isotope_difference -nitrogen_isotope_difference)/carbon_isotope_difference, \"%\")"
      ],
      "metadata": {
        "colab": {
          "base_uri": "https://localhost:8080/"
        },
        "id": "cakNx3B6lx-F",
        "outputId": "1fe615cf-35e8-470a-bd70-5f8059b7ec56"
      },
      "execution_count": 26,
      "outputs": [
        {
          "output_type": "stream",
          "name": "stdout",
          "text": [
            "Relative deviation: 0.6298867300208343 %\n"
          ]
        }
      ]
    },
    {
      "cell_type": "code",
      "source": [
        "methanol = EmpiricalFormula(\"CH3OH\")\n",
        "water = EmpiricalFormula(\"H2O\")\n",
        "ethanol = EmpiricalFormula(\"CH2\") + methanol\n",
        "print(\"Ethanol chemical formula:\", ethanol.toString())"
      ],
      "metadata": {
        "colab": {
          "base_uri": "https://localhost:8080/"
        },
        "id": "xhw5ROsdmIjT",
        "outputId": "030714b5-1ead-4691-be14-9b2746631310"
      },
      "execution_count": 27,
      "outputs": [
        {
          "output_type": "stream",
          "name": "stdout",
          "text": [
            "Ethanol chemical formula: C2H6O1\n"
          ]
        }
      ]
    },
    {
      "cell_type": "code",
      "source": [
        "print(\"Ethanol composition:\", ethanol.getElementalComposition())"
      ],
      "metadata": {
        "colab": {
          "base_uri": "https://localhost:8080/"
        },
        "id": "Mow2vxnum7Gp",
        "outputId": "8d1fa593-dd61-4d99-9ec5-90f6da274828"
      },
      "execution_count": 28,
      "outputs": [
        {
          "output_type": "stream",
          "name": "stdout",
          "text": [
            "Ethanol composition: {b'C': 2, b'H': 6, b'O': 1}\n"
          ]
        }
      ]
    },
    {
      "cell_type": "code",
      "source": [
        "print(\"Ethanol has\", ethanol.getElementalComposition()[b\"H\"], \"hydrogen atoms\")"
      ],
      "metadata": {
        "colab": {
          "base_uri": "https://localhost:8080/"
        },
        "id": "gS-4h27CnJJ8",
        "outputId": "d7df0495-400e-4bf0-d4b2-6bd670ea3d95"
      },
      "execution_count": 30,
      "outputs": [
        {
          "output_type": "stream",
          "name": "stdout",
          "text": [
            "Ethanol has 6 hydrogen atoms\n"
          ]
        }
      ]
    },
    {
      "cell_type": "code",
      "source": [
        "lys = ResidueDB().getResidue(\"Lysine\")"
      ],
      "metadata": {
        "id": "ATFRDnL9nSG3"
      },
      "execution_count": 31,
      "outputs": []
    },
    {
      "cell_type": "code",
      "source": [
        "print(lys.getName())"
      ],
      "metadata": {
        "colab": {
          "base_uri": "https://localhost:8080/"
        },
        "id": "hUSfBeCwoZB_",
        "outputId": "ce2c92f0-7560-4edd-fe7a-e052c36ca83e"
      },
      "execution_count": 32,
      "outputs": [
        {
          "output_type": "stream",
          "name": "stdout",
          "text": [
            "Lysine\n"
          ]
        }
      ]
    },
    {
      "cell_type": "code",
      "source": [
        "print(lys.getThreeLetterCode())"
      ],
      "metadata": {
        "colab": {
          "base_uri": "https://localhost:8080/"
        },
        "id": "DbRKne_zoc6W",
        "outputId": "444507f8-acb2-401d-e40c-53b0e9442215"
      },
      "execution_count": 33,
      "outputs": [
        {
          "output_type": "stream",
          "name": "stdout",
          "text": [
            "Lys\n"
          ]
        }
      ]
    },
    {
      "cell_type": "code",
      "source": [
        "print(lys.getOneLetterCode())"
      ],
      "metadata": {
        "colab": {
          "base_uri": "https://localhost:8080/"
        },
        "id": "JVGf2ndYofxq",
        "outputId": "f1f1a7fc-e286-4fa7-feb5-0d5199b3a6d1"
      },
      "execution_count": 34,
      "outputs": [
        {
          "output_type": "stream",
          "name": "stdout",
          "text": [
            "K\n"
          ]
        }
      ]
    },
    {
      "cell_type": "code",
      "source": [
        "print(lys.getAverageWeight())"
      ],
      "metadata": {
        "colab": {
          "base_uri": "https://localhost:8080/"
        },
        "id": "0NJOUGUdoiDf",
        "outputId": "b9ab83d0-1151-4275-d5ca-d2d19115a560"
      },
      "execution_count": 35,
      "outputs": [
        {
          "output_type": "stream",
          "name": "stdout",
          "text": [
            "146.18788276708443\n"
          ]
        }
      ]
    },
    {
      "cell_type": "code",
      "source": [
        "print(lys.getMonoWeight())"
      ],
      "metadata": {
        "colab": {
          "base_uri": "https://localhost:8080/"
        },
        "id": "GkK0NHnjolAI",
        "outputId": "dc64e56c-a529-409b-c01d-f7748b6d00ff"
      },
      "execution_count": 36,
      "outputs": [
        {
          "output_type": "stream",
          "name": "stdout",
          "text": [
            "146.1055284466\n"
          ]
        }
      ]
    },
    {
      "cell_type": "code",
      "source": [
        "print(lys.getPka())"
      ],
      "metadata": {
        "colab": {
          "base_uri": "https://localhost:8080/"
        },
        "id": "A_wIJN4ronYL",
        "outputId": "bbf60353-4556-41da-ac81-71d14e26367e"
      },
      "execution_count": 37,
      "outputs": [
        {
          "output_type": "stream",
          "name": "stdout",
          "text": [
            "2.16\n"
          ]
        }
      ]
    },
    {
      "cell_type": "code",
      "source": [
        "print(lys.getFormula().toString())"
      ],
      "metadata": {
        "colab": {
          "base_uri": "https://localhost:8080/"
        },
        "id": "daGt6Jm5orN0",
        "outputId": "08dc8f9f-27b4-49ed-9cb4-135e4a9e6968"
      },
      "execution_count": 38,
      "outputs": [
        {
          "output_type": "stream",
          "name": "stdout",
          "text": [
            "C6H14N2O2\n"
          ]
        }
      ]
    },
    {
      "cell_type": "code",
      "source": [
        "ox = ModificationsDB().getModification(\"Oxidation\")\n",
        "print(ox.getUniModAccession())\n",
        "print(ox.getUniModRecordId())\n",
        "print(ox.getDiffMonoMass())\n",
        "print(ox.getId())\n",
        "print(ox.getFullId())\n",
        "print(ox.getFullName())\n",
        "print(ox.getDiffFormula())"
      ],
      "metadata": {
        "colab": {
          "base_uri": "https://localhost:8080/"
        },
        "id": "PUt4e3C3otiO",
        "outputId": "a3a16512-b67f-436d-99d2-df4e4676c389"
      },
      "execution_count": 39,
      "outputs": [
        {
          "output_type": "stream",
          "name": "stdout",
          "text": [
            "UniMod:35\n",
            "35\n",
            "15.994915\n",
            "Oxidation\n",
            "Oxidation (D)\n",
            "Oxidation or Hydroxylation\n",
            "O1\n"
          ]
        }
      ]
    },
    {
      "cell_type": "code",
      "source": [
        "isotopes = ox.getDiffFormula().getIsotopeDistribution(CoarseIsotopePatternGenerator(5))\n",
        "for iso in isotopes.getContainer():\n",
        "    print (iso.getMZ(), \":\", iso.getIntensity())"
      ],
      "metadata": {
        "colab": {
          "base_uri": "https://localhost:8080/"
        },
        "id": "5-QxvaXXqN2d",
        "outputId": "63250f6e-4e5a-4347-bfc2-f42f446b04b0"
      },
      "execution_count": 40,
      "outputs": [
        {
          "output_type": "stream",
          "name": "stdout",
          "text": [
            "15.994915 : 0.9975699782371521\n",
            "16.998269837800002 : 0.0003800000122282654\n",
            "18.0016246756 : 0.002050000010058284\n"
          ]
        }
      ]
    },
    {
      "cell_type": "code",
      "source": [
        "uridine = RibonucleotideDB().getRibonucleotide(b\"U\")\n",
        "print(uridine.getName())\n",
        "print(uridine.getCode())\n",
        "print(uridine.getAvgMass())\n",
        "print(uridine.getMonoMass())\n",
        "print(uridine.getFormula().toString())\n",
        "print(uridine.isModified())\n",
        "methyladenosine = RibonucleotideDB().getRibonucleotide(b\"m1A\")\n",
        "print(methyladenosine.getName())\n",
        "print(methyladenosine.isModified())"
      ],
      "metadata": {
        "colab": {
          "base_uri": "https://localhost:8080/"
        },
        "id": "pKAFgs1sqlYr",
        "outputId": "157ddcdf-43ac-4f4a-9cc4-1ff6b539ac43"
      },
      "execution_count": 41,
      "outputs": [
        {
          "output_type": "stream",
          "name": "stdout",
          "text": [
            "uridine\n",
            "U\n",
            "244.2043\n",
            "244.0695\n",
            "C9H12N2O6\n",
            "False\n",
            "1-methyladenosine\n",
            "True\n"
          ]
        }
      ]
    },
    {
      "cell_type": "code",
      "source": [],
      "metadata": {
        "id": "cOmAdgGJq4x9"
      },
      "execution_count": null,
      "outputs": []
    }
  ]
}