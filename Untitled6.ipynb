{
  "nbformat": 4,
  "nbformat_minor": 0,
  "metadata": {
    "colab": {
      "provenance": [],
      "authorship_tag": "ABX9TyP3B8ybybtlKTf3fWIR+tUk",
      "include_colab_link": true
    },
    "kernelspec": {
      "name": "python3",
      "display_name": "Python 3"
    },
    "language_info": {
      "name": "python"
    }
  },
  "cells": [
    {
      "cell_type": "markdown",
      "metadata": {
        "id": "view-in-github",
        "colab_type": "text"
      },
      "source": [
        "<a href=\"https://colab.research.google.com/github/SalmaAhmed2001/first-task-Computational-biology/blob/main/Untitled6.ipynb\" target=\"_parent\"><img src=\"https://colab.research.google.com/assets/colab-badge.svg\" alt=\"Open In Colab\"/></a>"
      ]
    },
    {
      "cell_type": "code",
      "execution_count": 4,
      "metadata": {
        "colab": {
          "base_uri": "https://localhost:8080/"
        },
        "id": "6tudTLWR3ouY",
        "outputId": "d5e57383-b556-4358-c13c-ed02d73310fa"
      },
      "outputs": [
        {
          "output_type": "stream",
          "name": "stdout",
          "text": [
            "Looking in indexes: https://pypi.org/simple, https://us-python.pkg.dev/colab-wheels/public/simple/\n",
            "Collecting pyopenms\n",
            "  Downloading pyopenms-2.7.0-cp37-cp37m-manylinux2014_x86_64.whl (49.0 MB)\n",
            "\u001b[K     |████████████████████████████████| 49.0 MB 2.5 MB/s \n",
            "\u001b[?25hRequirement already satisfied: numpy in /usr/local/lib/python3.7/dist-packages (from pyopenms) (1.21.6)\n",
            "Installing collected packages: pyopenms\n",
            "Successfully installed pyopenms-2.7.0\n"
          ]
        }
      ],
      "source": [
        "!pip install pyopenms"
      ]
    },
    {
      "cell_type": "code",
      "source": [
        "from pyopenms import *\n",
        "sq=\"VAKA\"\n",
        "mfull2=0\n",
        "for i in range(0,len(sq)):\n",
        "    q=sq[i]\n",
        "    e = AASequence.fromString(q)\n",
        "    mfull2=mfull2+e.getMonoWeight()\n",
        "    print(mfull2)\n",
        "seq = AASequence.fromString(sq)\n",
        "print(\"Sequence:\", seq)\n",
        "\n",
        "mfull = seq.getMonoWeight()\n",
        "\n",
        "print(\"Monoisotopic mass of peptide [M] is\", mfull)\n"
      ],
      "metadata": {
        "colab": {
          "base_uri": "https://localhost:8080/"
        },
        "id": "WwRMiRy93v3p",
        "outputId": "ce8d9cd1-7bdb-4549-b6e8-8a99f4720f15"
      },
      "execution_count": 14,
      "outputs": [
        {
          "output_type": "stream",
          "name": "stdout",
          "text": [
            "117.0789793509\n",
            "206.1266585742\n",
            "352.23218702080004\n",
            "441.27986624410005\n",
            "Sequence: VAKA\n",
            "Monoisotopic mass of peptide [M] is 387.2481710527\n"
          ]
        }
      ]
    }
  ]
}